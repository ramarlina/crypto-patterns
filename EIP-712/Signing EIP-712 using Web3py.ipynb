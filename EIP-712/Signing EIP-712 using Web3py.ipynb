{
 "cells": [
  {
   "cell_type": "markdown",
   "id": "ca3039b3",
   "metadata": {},
   "source": [
    "Imports"
   ]
  },
  {
   "cell_type": "code",
   "execution_count": 7,
   "id": "ed73a2f8",
   "metadata": {},
   "outputs": [],
   "source": [
    "from web3.auto import w3\n",
    "from web3 import Web3\n",
    "from eth_account import Account\n",
    "from eth_account.messages import encode_structured_data\n",
    "import json \n",
    "from eth_account._utils.structured_data.hashing import hash_domain\n",
    "\n",
    "web3 = Web3(Web3.HTTPProvider(\"https://data-seed-prebsc-1-s1.binance.org:8545/\"))"
   ]
  },
  {
   "cell_type": "markdown",
   "id": "e0af7503",
   "metadata": {},
   "source": [
    "Signer account"
   ]
  },
  {
   "cell_type": "code",
   "execution_count": 9,
   "id": "fb9b51e7",
   "metadata": {},
   "outputs": [],
   "source": [
    "private_key = w3.sha3(text=\"random\")\n",
    "signer_address = Account.from_key(private_key).address"
   ]
  },
  {
   "cell_type": "markdown",
   "id": "a862fc94",
   "metadata": {},
   "source": [
    "Sample transaction data we'd like to sign"
   ]
  },
  {
   "cell_type": "code",
   "execution_count": 2,
   "id": "f2ccc025",
   "metadata": {},
   "outputs": [],
   "source": [
    "contract_address = '0x833Bcee325Cb66406452f63432959E899aEE01d8'\n",
    "abi=json.loads('[{\"inputs\":[],\"stateMutability\":\"nonpayable\",\"type\":\"constructor\"},{\"anonymous\":false,\"inputs\":[{\"indexed\":true,\"internalType\":\"bytes32\",\"name\":\"typeHash\",\"type\":\"bytes32\"},{\"indexed\":false,\"internalType\":\"string\",\"name\":\"typeStr\",\"type\":\"string\"}],\"name\":\"RequestTypeRegistered\",\"type\":\"event\"},{\"inputs\":[],\"name\":\"GENERIC_PARAMS\",\"outputs\":[{\"internalType\":\"string\",\"name\":\"\",\"type\":\"string\"}],\"stateMutability\":\"view\",\"type\":\"function\"},{\"inputs\":[{\"components\":[{\"internalType\":\"address\",\"name\":\"from\",\"type\":\"address\"},{\"internalType\":\"address\",\"name\":\"to\",\"type\":\"address\"},{\"internalType\":\"uint256\",\"name\":\"value\",\"type\":\"uint256\"},{\"internalType\":\"uint256\",\"name\":\"gas\",\"type\":\"uint256\"},{\"internalType\":\"uint256\",\"name\":\"nonce\",\"type\":\"uint256\"},{\"internalType\":\"bytes\",\"name\":\"data\",\"type\":\"bytes\"}],\"internalType\":\"struct IForwarder.ForwardRequest\",\"name\":\"req\",\"type\":\"tuple\"},{\"internalType\":\"bytes32\",\"name\":\"requestTypeHash\",\"type\":\"bytes32\"},{\"internalType\":\"bytes\",\"name\":\"suffixData\",\"type\":\"bytes\"}],\"name\":\"_getEncoded\",\"outputs\":[{\"internalType\":\"bytes\",\"name\":\"\",\"type\":\"bytes\"}],\"stateMutability\":\"pure\",\"type\":\"function\"},{\"inputs\":[{\"components\":[{\"internalType\":\"address\",\"name\":\"from\",\"type\":\"address\"},{\"internalType\":\"address\",\"name\":\"to\",\"type\":\"address\"},{\"internalType\":\"uint256\",\"name\":\"value\",\"type\":\"uint256\"},{\"internalType\":\"uint256\",\"name\":\"gas\",\"type\":\"uint256\"},{\"internalType\":\"uint256\",\"name\":\"nonce\",\"type\":\"uint256\"},{\"internalType\":\"bytes\",\"name\":\"data\",\"type\":\"bytes\"}],\"internalType\":\"struct IForwarder.ForwardRequest\",\"name\":\"req\",\"type\":\"tuple\"},{\"internalType\":\"bytes32\",\"name\":\"domainSeparator\",\"type\":\"bytes32\"},{\"internalType\":\"bytes32\",\"name\":\"requestTypeHash\",\"type\":\"bytes32\"},{\"internalType\":\"bytes\",\"name\":\"suffixData\",\"type\":\"bytes\"},{\"internalType\":\"bytes\",\"name\":\"sig\",\"type\":\"bytes\"}],\"name\":\"execute\",\"outputs\":[{\"internalType\":\"bool\",\"name\":\"success\",\"type\":\"bool\"},{\"internalType\":\"bytes\",\"name\":\"ret\",\"type\":\"bytes\"}],\"stateMutability\":\"payable\",\"type\":\"function\"},{\"inputs\":[{\"internalType\":\"address\",\"name\":\"from\",\"type\":\"address\"}],\"name\":\"getNonce\",\"outputs\":[{\"internalType\":\"uint256\",\"name\":\"\",\"type\":\"uint256\"}],\"stateMutability\":\"view\",\"type\":\"function\"},{\"inputs\":[{\"components\":[{\"internalType\":\"address\",\"name\":\"from\",\"type\":\"address\"},{\"internalType\":\"address\",\"name\":\"to\",\"type\":\"address\"},{\"internalType\":\"uint256\",\"name\":\"value\",\"type\":\"uint256\"},{\"internalType\":\"uint256\",\"name\":\"gas\",\"type\":\"uint256\"},{\"internalType\":\"uint256\",\"name\":\"nonce\",\"type\":\"uint256\"},{\"internalType\":\"bytes\",\"name\":\"data\",\"type\":\"bytes\"}],\"internalType\":\"struct IForwarder.ForwardRequest\",\"name\":\"req\",\"type\":\"tuple\"},{\"internalType\":\"bytes32\",\"name\":\"domainSeparator\",\"type\":\"bytes32\"},{\"internalType\":\"bytes32\",\"name\":\"requestTypeHash\",\"type\":\"bytes32\"},{\"internalType\":\"bytes\",\"name\":\"suffixData\",\"type\":\"bytes\"},{\"internalType\":\"bytes\",\"name\":\"sig\",\"type\":\"bytes\"}],\"name\":\"recoverAddress\",\"outputs\":[{\"internalType\":\"address\",\"name\":\"\",\"type\":\"address\"}],\"stateMutability\":\"view\",\"type\":\"function\"},{\"inputs\":[{\"internalType\":\"string\",\"name\":\"typeName\",\"type\":\"string\"},{\"internalType\":\"string\",\"name\":\"typeSuffix\",\"type\":\"string\"}],\"name\":\"registerRequestType\",\"outputs\":[],\"stateMutability\":\"nonpayable\",\"type\":\"function\"},{\"inputs\":[{\"internalType\":\"bytes32\",\"name\":\"\",\"type\":\"bytes32\"}],\"name\":\"typeHashes\",\"outputs\":[{\"internalType\":\"bool\",\"name\":\"\",\"type\":\"bool\"}],\"stateMutability\":\"view\",\"type\":\"function\"},{\"inputs\":[{\"components\":[{\"internalType\":\"address\",\"name\":\"from\",\"type\":\"address\"},{\"internalType\":\"address\",\"name\":\"to\",\"type\":\"address\"},{\"internalType\":\"uint256\",\"name\":\"value\",\"type\":\"uint256\"},{\"internalType\":\"uint256\",\"name\":\"gas\",\"type\":\"uint256\"},{\"internalType\":\"uint256\",\"name\":\"nonce\",\"type\":\"uint256\"},{\"internalType\":\"bytes\",\"name\":\"data\",\"type\":\"bytes\"}],\"internalType\":\"struct IForwarder.ForwardRequest\",\"name\":\"req\",\"type\":\"tuple\"},{\"internalType\":\"bytes32\",\"name\":\"domainSeparator\",\"type\":\"bytes32\"},{\"internalType\":\"bytes32\",\"name\":\"requestTypeHash\",\"type\":\"bytes32\"},{\"internalType\":\"bytes\",\"name\":\"suffixData\",\"type\":\"bytes\"},{\"internalType\":\"bytes\",\"name\":\"sig\",\"type\":\"bytes\"}],\"name\":\"verify\",\"outputs\":[],\"stateMutability\":\"view\",\"type\":\"function\"},{\"stateMutability\":\"payable\",\"type\":\"receive\"}]')\n",
    "\n",
    "verifierContract = web3.eth.contract(abi=abi, address=contract_address)\n",
    "\n",
    "domain_name = \"Test\" \n",
    "domain_chainId = 97\n",
    "\n",
    "tx = {\n",
    "    'primaryType': 'ForwardRequest', \n",
    "    'types': {'EIP712Domain': [{'name': 'name', 'type': 'string'}, {'name': 'version', 'type': 'string'}, {'name': 'chainId', 'type': 'uint256'}, {'name': 'verifyingContract', 'type': 'address'}], \n",
    "              'ForwardRequest': [{'name': 'from', 'type': 'address'}, {'name': 'to', 'type': 'address'}, {'name': 'value', 'type': 'uint256'}, {'name': 'gas', 'type': 'uint256'}, {'name': 'nonce', 'type': 'uint256'}, {'name': 'data', 'type': 'bytes'}]}, 'domain': {'name': domain_name, 'version': '1', 'chainId': domain_chainId, 'verifyingContract': contract_address}, \n",
    "    'message': {'from': '0x9fdA2cCe1566D220403442C90eC3260c6642D672', 'to': '0x23d96F7Fdd50495Ec78B54199F156fe2F2C58d57', 'value': 0, 'gas': 1000000, 'nonce': 3, 'data': '0xa9059cbb000000000000000000000000911a0ee2dbf4e552fd08ef5534c2635d578cc650000000000000000000000000000000000000000000000000Ab043Eb3a7650000'}\n",
    "}"
   ]
  },
  {
   "cell_type": "markdown",
   "id": "6c2d8a24",
   "metadata": {},
   "source": [
    "Web3py: **encode_structured_data** throws as type error because it expects the value of `data` to be of type `bytes`"
   ]
  },
  {
   "cell_type": "code",
   "execution_count": 3,
   "id": "ecf6fee9",
   "metadata": {},
   "outputs": [
    {
     "name": "stdout",
     "output_type": "stream",
     "text": [
      "Value of `data` (0xa9059cbb000000000000000000000000911a0ee2dbf4e552fd08ef5534c2635d578cc650000000000000000000000000000000000000000000000000Ab043Eb3a7650000) in the struct `ForwardRequest` is of the type `<class 'str'>`, but expected bytes value\n"
     ]
    }
   ],
   "source": [
    "try:\n",
    "    encoded_data=encode_structured_data(tx)\n",
    "except TypeError as e: \n",
    "    print(e.__str__()) "
   ]
  },
  {
   "cell_type": "code",
   "execution_count": 4,
   "id": "2e6a8bc8",
   "metadata": {},
   "outputs": [
    {
     "data": {
      "text/plain": [
       "'0x01347dfad3af223905b3ce4b0d2bb07642eb1822646ac6d464bbdf0ea2a6874e1508c6aa0b14535c49a97f24d442ddb900c5dc202abba79bdd04cb782600a46e1b'"
      ]
     },
     "execution_count": 4,
     "metadata": {},
     "output_type": "execute_result"
    }
   ],
   "source": [
    "# convert string to bytes\n",
    "if isinstance(tx[\"message\"][\"data\"], str):\n",
    "    tx[\"message\"][\"data\"] = tx[\"message\"][\"data\"].encode(\"utf8\")\n",
    "\n",
    "encoded_data = encode_structured_data(tx)\n",
    "signature = w3.eth.account.sign_message(encoded_data, private_key).signature.hex()\n",
    "signature"
   ]
  },
  {
   "cell_type": "code",
   "execution_count": 11,
   "id": "0d838d8a",
   "metadata": {},
   "outputs": [],
   "source": [
    "type_hash = w3.keccak(text='ForwardRequest(address from,address to,uint256 value,uint256 gas,uint256 nonce,bytes data)').hex()\n",
    "domain_hash = hash_domain(tx).hex()  \n",
    "\n",
    "recoveredAddress = verifierContract.functions.recoverAddress(tx[\"message\"], domain_hash, type_hash, '0x', signature).call()"
   ]
  },
  {
   "cell_type": "code",
   "execution_count": 12,
   "id": "6da548f7",
   "metadata": {},
   "outputs": [
    {
     "name": "stdout",
     "output_type": "stream",
     "text": [
      "Signer Address: 0x42A3D6E125AAD539AC15ED04E1478Eb0A4dC1489\n",
      "Recovered Address from Signature: 0x42A3D6E125AAD539AC15ED04E1478Eb0A4dC1489\n"
     ]
    }
   ],
   "source": [
    "print(f\"Signer Address: {signer_address}\\nRecovered Address from Signature: {recoveredAddress}\")"
   ]
  },
  {
   "cell_type": "code",
   "execution_count": null,
   "id": "c8d62114",
   "metadata": {},
   "outputs": [],
   "source": []
  }
 ],
 "metadata": {
  "kernelspec": {
   "display_name": "Python 3 (ipykernel)",
   "language": "python",
   "name": "python3"
  },
  "language_info": {
   "codemirror_mode": {
    "name": "ipython",
    "version": 3
   },
   "file_extension": ".py",
   "mimetype": "text/x-python",
   "name": "python",
   "nbconvert_exporter": "python",
   "pygments_lexer": "ipython3",
   "version": "3.8.2"
  }
 },
 "nbformat": 4,
 "nbformat_minor": 5
}
